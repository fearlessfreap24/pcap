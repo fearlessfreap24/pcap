{
 "cells": [
  {
   "cell_type": "markdown",
   "id": "80bda7cf",
   "metadata": {},
   "source": [
    "<p>Some say that the Digit of Life is a digit evaluated using somebody's birthday. It's simple - you just need to sum all the digits of the date. If the result contains more than one digit, you have to repeat the addition until you get exactly one digit. For example:</p>\n",
    "<ul>\n",
    "    <li>1 January 2017 = 2017 01 01\n",
    "    <li>2 + 0 + 1 + 7 + 0 + 1 + 0 + 1 = 12\n",
    "    <li>1 + 2 = 3\n",
    "</ul>\n",
    "<p>3 is the digit we searched for and found.</p>\n",
    "<p>Your task is to write a program which:</p>\n",
    "<ul>\n",
    "    <li>asks the user her/his birthday (in the format YYYYMMDD, or YYYYDDMM, or MMDDYYYY - actually, the order of the digits doesn't matter)\n",
    "    <li>outputs the Digit of Life for the date.\n",
    "</ul>"
   ]
  },
  {
   "cell_type": "code",
   "execution_count": 6,
   "id": "48705e02",
   "metadata": {},
   "outputs": [],
   "source": [
    "def digit_life(num):\n",
    "    num_list = list(num)\n",
    "    result = 0\n",
    "    for i in num_list:\n",
    "        result += int(i)\n",
    "    \n",
    "    while len(str(result)) != 1:\n",
    "        num_list = list(str(result))\n",
    "        result = 0\n",
    "        for i in num_list:\n",
    "            result += int(i)\n",
    "            \n",
    "    return result"
   ]
  },
  {
   "cell_type": "code",
   "execution_count": 13,
   "id": "84f4595f",
   "metadata": {},
   "outputs": [
    {
     "name": "stdout",
     "output_type": "stream",
     "text": [
      "Please enter your birth month as a whole number - asdf\n",
      "Please enter your birth month as a whole number - 32\n",
      "Please enter your birth month as a whole number - 0\n",
      "Please enter your birth month as a whole number - 8\n",
      "Please enter the numerical day of the month of your birth - 32\n",
      "Please enter the numerical day of the month of your birth - 0\n",
      "Please enter the numerical day of the month of your birth - asdf\n",
      "Please enter the numerical day of the month of your birth - 19\n",
      "Please enter the four digit year you were born - asdf\n",
      "Please enter the four digit year you were born - 19741\n",
      "Please enter the four digit year you were born - 74\n",
      "Please enter the four digit year you were born - 1974\n",
      "Your Digit of Life is - 3\n"
     ]
    }
   ],
   "source": [
    "month = \"\"\n",
    "while not month.isdigit():\n",
    "    month = input(\"Please enter your birth month as a whole number - \")\n",
    "    try:\n",
    "        if not 1 <= int(month) <= 12:\n",
    "            month = \"\"\n",
    "    except Exception:\n",
    "        month = \"\"\n",
    "day = \"\"\n",
    "while not day.isdigit():\n",
    "    day = input(\"Please enter the numerical day of the month of your birth - \")\n",
    "    try:\n",
    "        if int(day) == 0: day = \"\"\n",
    "        if int(month) in [1, 3, 5, 7, 8, 10, 12] and int(day) > 31: day = \"\"\n",
    "        if int(month) in [4, 6, 9, 11] and int(day) > 30: day = \"\"\n",
    "    except Exception:\n",
    "        day = \"\"\n",
    "year = \"\"\n",
    "while not year.isdigit():\n",
    "    year = input(\"Please enter the four digit year you were born - \")\n",
    "    if len(year) != 4:\n",
    "        year = \"\"\n",
    "bday = year+month+day\n",
    "print(f\"Your Digit of Life is - {digit_life(bday)}\")"
   ]
  },
  {
   "cell_type": "code",
   "execution_count": null,
   "id": "d9c607fa",
   "metadata": {},
   "outputs": [],
   "source": []
  }
 ],
 "metadata": {
  "kernelspec": {
   "display_name": "Python 3 (ipykernel)",
   "language": "python",
   "name": "python3"
  },
  "language_info": {
   "codemirror_mode": {
    "name": "ipython",
    "version": 3
   },
   "file_extension": ".py",
   "mimetype": "text/x-python",
   "name": "python",
   "nbconvert_exporter": "python",
   "pygments_lexer": "ipython3",
   "version": "3.9.1"
  }
 },
 "nbformat": 4,
 "nbformat_minor": 5
}
