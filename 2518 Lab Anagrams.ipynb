{
 "cells": [
  {
   "cell_type": "markdown",
   "id": "47fd5aaa",
   "metadata": {},
   "source": [
    "<p>Your task is to write a program which:</p>\n",
    "<ul>\n",
    "    <li>asks the user for two separate texts;\n",
    "    <li>checks whether, the entered texts are anagrams and prints the result.\n",
    "</ul>\n",
    "<p>Note:</p>\n",
    "<ul>\n",
    "    <li>assume that two empty strings are not anagrams;\n",
    "    <li>treat upper- and lower-case letters as equal;\n",
    "    <li>spaces are not taken into account during the check - treat them as non-existent\n",
    "</ul>"
   ]
  },
  {
   "cell_type": "code",
   "execution_count": 27,
   "id": "c65a7ce0",
   "metadata": {},
   "outputs": [],
   "source": [
    "def is_anagram(text1, text2):\n",
    "    \n",
    "    if text1 == \"\" or text2 == \"\":\n",
    "        return False\n",
    "    \n",
    "    list1 = sorted(list(text1.replace(\" \", \"\").lower()))\n",
    "    list2 = sorted(list(text2.replace(\" \", \"\").lower()))\n",
    "    \n",
    "    if len(list1) != len(list2):\n",
    "        return False\n",
    "    if len(list1) == 0 or len(list2) == 0:\n",
    "        return False\n",
    "    \n",
    "    for i in range(len(list2)):\n",
    "        if list1[i] != list2[i]:\n",
    "            return False\n",
    "        \n",
    "    return True"
   ]
  },
  {
   "cell_type": "code",
   "execution_count": 34,
   "id": "48aa207d",
   "metadata": {},
   "outputs": [
    {
     "name": "stdout",
     "output_type": "stream",
     "text": [
      "Please enter the word to check anagrams against - women\n",
      "Please enter the potential anagrammen\n",
      "Not anagrams\n"
     ]
    }
   ],
   "source": [
    "init_word = input(\"Please enter the word to check anagrams against - \")\n",
    "ana_word = input(\"Please enter the potential anagram\")\n",
    "\n",
    "if is_anagram(init_word, ana_word): print(\"Anagrams\")\n",
    "else: print(\"Not anagrams\")"
   ]
  },
  {
   "cell_type": "code",
   "execution_count": null,
   "id": "107b2e5f",
   "metadata": {},
   "outputs": [],
   "source": []
  }
 ],
 "metadata": {
  "kernelspec": {
   "display_name": "Python 3 (ipykernel)",
   "language": "python",
   "name": "python3"
  },
  "language_info": {
   "codemirror_mode": {
    "name": "ipython",
    "version": 3
   },
   "file_extension": ".py",
   "mimetype": "text/x-python",
   "name": "python",
   "nbconvert_exporter": "python",
   "pygments_lexer": "ipython3",
   "version": "3.9.1"
  }
 },
 "nbformat": 4,
 "nbformat_minor": 5
}
