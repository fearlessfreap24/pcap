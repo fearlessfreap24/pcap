{
 "cells": [
  {
   "cell_type": "markdown",
   "id": "5070b1b6",
   "metadata": {},
   "source": [
    "<ul>\n",
    "    <li>Two strings are equal when they consist of the same characters in the same order. By the same fashion, two strings are not equal when they don't consist of the same characters in the same order.\n",
    "    <li>When you compare two strings of different lengths and the shorter one is identical to the longer one's beginning, the longer string is considered greater.\n",
    "    <li>String comparison is always case-sensitive (upper-case letters are taken as lesser than lower-case).\n",
    "</ul>"
   ]
  },
  {
   "cell_type": "code",
   "execution_count": 2,
   "id": "8ee46746",
   "metadata": {},
   "outputs": [
    {
     "name": "stdout",
     "output_type": "stream",
     "text": [
      "True\n",
      "True\n"
     ]
    }
   ],
   "source": [
    "print('alpha' == 'alpha')\n",
    "print('alpha' != 'Alpha')"
   ]
  },
  {
   "cell_type": "code",
   "execution_count": 3,
   "id": "cf7cdd07",
   "metadata": {},
   "outputs": [
    {
     "name": "stdout",
     "output_type": "stream",
     "text": [
      "True\n"
     ]
    }
   ],
   "source": [
    "print('alpha' < 'alphabet')"
   ]
  },
  {
   "cell_type": "code",
   "execution_count": 4,
   "id": "21419483",
   "metadata": {},
   "outputs": [
    {
     "name": "stdout",
     "output_type": "stream",
     "text": [
      "True\n"
     ]
    }
   ],
   "source": [
    "print('beta' > 'Beta')"
   ]
  },
  {
   "cell_type": "markdown",
   "id": "aef4a47e",
   "metadata": {},
   "source": [
    "<li>Even if a string contains digits only, it's still not a number. It's interpreted as-is, like any other regular string, and its (potential) numerical aspect is not taken into consideration in any way."
   ]
  },
  {
   "cell_type": "code",
   "execution_count": 6,
   "id": "5ea1262e",
   "metadata": {},
   "outputs": [
    {
     "name": "stdout",
     "output_type": "stream",
     "text": [
      "False\n",
      "True\n",
      "False\n",
      "True\n",
      "True\n"
     ]
    }
   ],
   "source": [
    "print('10' == '010')\n",
    "print('10' > '010')\n",
    "print('10' > '8')\n",
    "print('20' < '8')\n",
    "print('20' < '80')"
   ]
  },
  {
   "cell_type": "markdown",
   "id": "d6ba3495",
   "metadata": {},
   "source": [
    "<li>The only comparisons you can perform with impunity are these symbolized by the == and != operators. The former always gives False, while the latter always produces True.\n",
    "<li>Using any of the remaining comparison operators will raise a TypeError exception."
   ]
  },
  {
   "cell_type": "code",
   "execution_count": 7,
   "id": "ec5d59f3",
   "metadata": {},
   "outputs": [
    {
     "name": "stdout",
     "output_type": "stream",
     "text": [
      "False\n",
      "True\n",
      "False\n",
      "True\n",
      "This doesn't work\n"
     ]
    }
   ],
   "source": [
    "print('10' == 10)\n",
    "print('10' != 10)\n",
    "print('10' == 1)\n",
    "print('10' != 1)\n",
    "try:\n",
    "    print('10' > 10)\n",
    "except TypeError:\n",
    "    print(\"This doesn't work\")"
   ]
  },
  {
   "cell_type": "markdown",
   "id": "814fec02",
   "metadata": {},
   "source": [
    "<li><i>sorted()</i> takes one argument (a list) and returns a new list, filled with the sorted argument's elements. "
   ]
  },
  {
   "cell_type": "code",
   "execution_count": 8,
   "id": "ab007656",
   "metadata": {},
   "outputs": [
    {
     "name": "stdout",
     "output_type": "stream",
     "text": [
      "['omega', 'alpha', 'pi', 'gamma']\n",
      "['alpha', 'gamma', 'omega', 'pi']\n"
     ]
    }
   ],
   "source": [
    "first_greek = ['omega', 'alpha', 'pi', 'gamma']\n",
    "first_greek_2 = sorted(first_greek)\n",
    "\n",
    "print(first_greek)\n",
    "print(first_greek_2)"
   ]
  },
  {
   "cell_type": "markdown",
   "id": "208fb184",
   "metadata": {},
   "source": [
    "<li>The second method affects the list itself - no new list is created. Ordering is performed in situ by the method named <i>sort()</i>."
   ]
  },
  {
   "cell_type": "code",
   "execution_count": 9,
   "id": "2d48c2ec",
   "metadata": {},
   "outputs": [
    {
     "name": "stdout",
     "output_type": "stream",
     "text": [
      "['omega', 'alpha', 'pi', 'gamma']\n",
      "['alpha', 'gamma', 'omega', 'pi']\n"
     ]
    }
   ],
   "source": [
    "second_greek = ['omega', 'alpha', 'pi', 'gamma']\n",
    "print(second_greek)\n",
    "\n",
    "second_greek.sort()\n",
    "print(second_greek)"
   ]
  },
  {
   "cell_type": "markdown",
   "id": "e71f82fd",
   "metadata": {},
   "source": [
    "<li>The number-string conversion is simple, as it is always possible. It's done by a function named <i>str()</i>."
   ]
  },
  {
   "cell_type": "code",
   "execution_count": 10,
   "id": "1ddde1a0",
   "metadata": {},
   "outputs": [
    {
     "name": "stdout",
     "output_type": "stream",
     "text": [
      "13 1.3\n"
     ]
    }
   ],
   "source": [
    "itg = 13\n",
    "flt = 1.3\n",
    "si = str(itg)\n",
    "sf = str(flt)\n",
    "\n",
    "print(si + ' ' + sf)"
   ]
  },
  {
   "cell_type": "markdown",
   "id": "0b214a14",
   "metadata": {},
   "source": [
    "<li>The reverse transformation (string-number) is possible when and only when the string represents a valid number. If the condition is not met, expect a ValueError exception."
   ]
  },
  {
   "cell_type": "code",
   "execution_count": 11,
   "id": "e824772e",
   "metadata": {},
   "outputs": [
    {
     "name": "stdout",
     "output_type": "stream",
     "text": [
      "14.3\n"
     ]
    }
   ],
   "source": [
    "si = '13'\n",
    "sf = '1.3'\n",
    "itg = int(si)\n",
    "flt = float(sf)\n",
    "\n",
    "print(itg + flt)"
   ]
  },
  {
   "cell_type": "markdown",
   "id": "1501caf9",
   "metadata": {},
   "source": [
    "<h1>Section Summary</h1>\n",
    "<p>Which of the following describe a <b>true</b> condition?</p>"
   ]
  },
  {
   "cell_type": "code",
   "execution_count": 12,
   "id": "ca480c6f",
   "metadata": {},
   "outputs": [
    {
     "name": "stdout",
     "output_type": "stream",
     "text": [
      "True\n",
      "False\n",
      "True\n",
      "True\n"
     ]
    }
   ],
   "source": [
    "print('smith' > 'Smith')\n",
    "print('Smiths' < 'Smith')\n",
    "print('Smith' > '1000')\n",
    "print('11' < '8')"
   ]
  },
  {
   "cell_type": "markdown",
   "id": "9ee53fd6",
   "metadata": {},
   "source": [
    "<p>What is the expected output of the following code?</p>"
   ]
  },
  {
   "cell_type": "code",
   "execution_count": 15,
   "id": "1f6554f0",
   "metadata": {},
   "outputs": [
    {
     "name": "stdout",
     "output_type": "stream",
     "text": [
      "are\n"
     ]
    }
   ],
   "source": [
    "s1 = 'Where are the snows of yesteryear?'\n",
    "s2 = s1.split()\n",
    "s3 = sorted(s2)\n",
    "# print(s3)\n",
    "print(s3[1])"
   ]
  },
  {
   "cell_type": "markdown",
   "id": "d1a947e8",
   "metadata": {},
   "source": [
    "<p>What is the expected output of the following code?</p>"
   ]
  },
  {
   "cell_type": "code",
   "execution_count": 18,
   "id": "4600b7d2",
   "metadata": {},
   "outputs": [
    {
     "name": "stdout",
     "output_type": "stream",
     "text": [
      "That didn't work\n"
     ]
    }
   ],
   "source": [
    "try:\n",
    "    s1 = '12.8'\n",
    "    i = int(s1)\n",
    "    s2 = str(i)\n",
    "    f = float(s2)\n",
    "    print(s1 == s2)\n",
    "except ValueError:\n",
    "    print(\"That didn't work\")"
   ]
  },
  {
   "cell_type": "code",
   "execution_count": null,
   "id": "24e7c21f",
   "metadata": {},
   "outputs": [],
   "source": []
  }
 ],
 "metadata": {
  "kernelspec": {
   "display_name": "Python 3 (ipykernel)",
   "language": "python",
   "name": "python3"
  },
  "language_info": {
   "codemirror_mode": {
    "name": "ipython",
    "version": 3
   },
   "file_extension": ".py",
   "mimetype": "text/x-python",
   "name": "python",
   "nbconvert_exporter": "python",
   "pygments_lexer": "ipython3",
   "version": "3.9.1"
  }
 },
 "nbformat": 4,
 "nbformat_minor": 5
}
