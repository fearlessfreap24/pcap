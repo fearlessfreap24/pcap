{
 "cells": [
  {
   "cell_type": "markdown",
   "id": "40df4549",
   "metadata": {},
   "source": [
    "<p>Some of the built-in exceptions are more general (they include other exceptions) while others are completely concrete (they represent themselves only). We can say that <b>the closer to the root an exception is located, the more general (abstract)</b> it is. In turn, the exceptions located at the branches' ends (we can call them leaves) are concrete.</p>\n",
    "<p>Example:</p>\n",
    "<ul>\n",
    "    <li><i>ZeroDivisionError</i> is a special case of more a general exception class named ArithmeticError;</li>\n",
    "    <li><i>ArithmeticError</i> is a special case of a more general exception class named just Exception;</li>\n",
    "    <li><i>Exception</i> is a special case of a more general class named BaseException;</li>\n",
    "</ul>"
   ]
  },
  {
   "cell_type": "code",
   "execution_count": 1,
   "id": "6c3c894b",
   "metadata": {},
   "outputs": [
    {
     "name": "stdout",
     "output_type": "stream",
     "text": [
      "Oooppsss...\n",
      "THE END.\n"
     ]
    }
   ],
   "source": [
    "try:\n",
    "    y = 1 / 0\n",
    "except ZeroDivisionError:\n",
    "    print(\"Oooppsss...\")\n",
    "\n",
    "print(\"THE END.\")"
   ]
  },
  {
   "cell_type": "code",
   "execution_count": 3,
   "id": "3d984822",
   "metadata": {},
   "outputs": [
    {
     "name": "stdout",
     "output_type": "stream",
     "text": [
      "Oooppsss...\n",
      "THE END.\n"
     ]
    }
   ],
   "source": [
    "try:\n",
    "    y = 1 / 0\n",
    "except ArithmeticError:\n",
    "    print(\"Oooppsss...\")\n",
    "\n",
    "print(\"THE END.\")"
   ]
  },
  {
   "cell_type": "markdown",
   "id": "b2668ba2",
   "metadata": {},
   "source": [
    "<p>You already know that <i>ArithmeticError</i> is a general class including (among others) the <i>ZeroDivisionError</i> exception.</p>\n",
    "<p>Thus, the code's output remains unchanged.</p>\n",
    "<p>This also means that replacing the exception's name with either <i>Exception</i> or <i>BaseException</i> won't change the program's behavior.</p>"
   ]
  },
  {
   "cell_type": "code",
   "execution_count": 4,
   "id": "b19dbac1",
   "metadata": {},
   "outputs": [
    {
     "name": "stdout",
     "output_type": "stream",
     "text": [
      "Zero Division!\n",
      "THE END.\n"
     ]
    }
   ],
   "source": [
    "try:\n",
    "    y = 1 / 0\n",
    "except ZeroDivisionError:\n",
    "    print(\"Zero Division!\")\n",
    "except ArithmeticError:\n",
    "    print(\"Arithmetic problem!\")\n",
    "\n",
    "print(\"THE END.\")"
   ]
  },
  {
   "cell_type": "code",
   "execution_count": 5,
   "id": "12fe3c0f",
   "metadata": {},
   "outputs": [
    {
     "name": "stdout",
     "output_type": "stream",
     "text": [
      "Arithmetic problem!\n",
      "THE END.\n"
     ]
    }
   ],
   "source": [
    "try:\n",
    "    y = 1 / 0\n",
    "except ArithmeticError:\n",
    "    print(\"Arithmetic problem!\")\n",
    "except ZeroDivisionError:\n",
    "    print(\"Zero Division!\")\n",
    "\n",
    "print(\"THE END.\")"
   ]
  },
  {
   "cell_type": "markdown",
   "id": "7593c3ba",
   "metadata": {},
   "source": [
    "<p>The exception is the same, but the more general exception is now listed first - it will catch all zero divisions too. It also means that there's no chance that any exception hits the <i>ZeroDivisionError</i> branch. This branch is now completely unreachable.</p>"
   ]
  },
  {
   "cell_type": "markdown",
   "id": "0361f2bf",
   "metadata": {},
   "source": [
    "<p>If an exception is raised inside a function, it can be handled:</p>\n",
    "<ul>\n",
    "    <li>inside the function;</li>\n",
    "    <li>outside the function;</li>\n",
    "</ul>\n",
    "<p>The <i>ZeroDivisionError</i> exception (being a concrete case of the <i>ArithmeticError</i> exception class) is raised inside the <code>bad_fun()</code> function, and it doesn't leave the function - the function itself takes care of it.</p>"
   ]
  },
  {
   "cell_type": "code",
   "execution_count": 6,
   "id": "08cdd366",
   "metadata": {},
   "outputs": [
    {
     "name": "stdout",
     "output_type": "stream",
     "text": [
      "Arithmetic Problem!\n",
      "THE END.\n"
     ]
    }
   ],
   "source": [
    "def bad_fun(n):\n",
    "    try:\n",
    "        return 1 / n\n",
    "    except ArithmeticError:\n",
    "        print(\"Arithmetic Problem!\")\n",
    "    return None\n",
    "\n",
    "bad_fun(0)\n",
    "\n",
    "print(\"THE END.\")"
   ]
  },
  {
   "cell_type": "markdown",
   "id": "f159600c",
   "metadata": {},
   "source": [
    "<p>It's also possible to let the exception propagate outside the function.</p>"
   ]
  },
  {
   "cell_type": "code",
   "execution_count": 7,
   "id": "6c31b454",
   "metadata": {},
   "outputs": [
    {
     "name": "stdout",
     "output_type": "stream",
     "text": [
      "What happened? An exception was raised!\n",
      "THE END.\n"
     ]
    }
   ],
   "source": [
    "def bad_fun(n):\n",
    "    return 1 / n\n",
    "\n",
    "try:\n",
    "    bad_fun(0)\n",
    "except ArithmeticError:\n",
    "    print(\"What happened? An exception was raised!\")\n",
    "\n",
    "print(\"THE END.\")"
   ]
  },
  {
   "cell_type": "markdown",
   "id": "dd609c78",
   "metadata": {},
   "source": [
    "<p>Note: the <b>exception raised can cross function and module boundaries</b>, and travel through the invocation chain looking for a matching <code>except</code> clause able to handle it.</p>\n",
    "<p>If there is no such clause, the exception remains unhandled, and Python solves the problem in its standard way - <b>by terminating your code and emitting a diagnostic message.</b></p>"
   ]
  },
  {
   "cell_type": "markdown",
   "id": "3da8a856",
   "metadata": {},
   "source": [
    "<p>The <code>raise</code> instruction raises the specified exception named <code>exc</code> as if it was raised in a normal (natural) way</p>\n",
    "<p>The instruction enables you to:</p>\n",
    "<ul>\n",
    "    <li><b>simulate raising actual exceptions</b> (e.g., to test your handling strategy)\n",
    "    <li>partially <b>handle an exception</b> and make another part of the code responsible for completing the handling (separation of concerns)</li>\n",
    "</ul>"
   ]
  },
  {
   "cell_type": "code",
   "execution_count": 8,
   "id": "49cc95f4",
   "metadata": {},
   "outputs": [
    {
     "name": "stdout",
     "output_type": "stream",
     "text": [
      "What happened? An error?\n",
      "THE END.\n"
     ]
    }
   ],
   "source": [
    "def bad_fun(n):\n",
    "    raise ZeroDivisionError\n",
    "\n",
    "\n",
    "try:\n",
    "    bad_fun(0)\n",
    "except ArithmeticError:\n",
    "    print(\"What happened? An error?\")\n",
    "\n",
    "print(\"THE END.\")"
   ]
  },
  {
   "cell_type": "markdown",
   "id": "b8e464fd",
   "metadata": {},
   "source": [
    "<p>The <code>raise</code> instruction may also be utilized in the following way (note the absence of the exception's name):</p>\n",
    "<p>There is one serious restriction: this kind of <code>raise</code> instruction may be used <b>inside the</b> <code>except</code> <b>branch only</b>; using it in any other context causes an error.</p>\n"
   ]
  },
  {
   "cell_type": "code",
   "execution_count": 9,
   "id": "c638bbde",
   "metadata": {},
   "outputs": [
    {
     "name": "stdout",
     "output_type": "stream",
     "text": [
      "I did it again!\n",
      "I see!\n",
      "THE END.\n"
     ]
    }
   ],
   "source": [
    "def bad_fun(n):\n",
    "    try:\n",
    "        return n / 0\n",
    "    except:\n",
    "        print(\"I did it again!\")\n",
    "        raise\n",
    "\n",
    "\n",
    "try:\n",
    "    bad_fun(0)\n",
    "except ArithmeticError:\n",
    "    print(\"I see!\")\n",
    "\n",
    "print(\"THE END.\")"
   ]
  },
  {
   "cell_type": "markdown",
   "id": "ca04e8d6",
   "metadata": {},
   "source": [
    "<p>The <i>ZeroDivisionError</i> is raised twice:</p>\n",
    "<ul>\n",
    "    <li>first, inside the <code>try</code> part of the code (this is caused by actual zero division)</li>\n",
    "    <li>second, inside the <code>except</code> part by the <code>raise</code> instruction.</li>\n",
    "</ul>"
   ]
  },
  {
   "cell_type": "markdown",
   "id": "d2d3ce2e",
   "metadata": {},
   "source": [
    "<p><code>assert</code></p>\n",
    "<ul>\n",
    "    <li>It evaluates the expression;</li>\n",
    "    <li>if the expression evaluates to True, or a non-zero numerical value, or a non-empty string, or any other value different than None, it won't do anything else;</li>\n",
    "    <li>otherwise, it automatically and immediately raises an exception named AssertionError (in this case, we say that the assertion has failed)</li>\n",
    "</ul>\n",
    "<p>How can it be used?</p>\n",
    "<ul>\n",
    "    <li>you may want to put it into your code where you want to be <b>absolutely safe from evidently wrong data</b>, and where you aren't absolutely sure that the data has been carefully examined before (e.g., inside a function used by someone else)</li>\n",
    "    <li>raising an <i>AssertionError</i> exception secures your code from producing invalid results, and clearly shows the nature of the failure;</li>\n",
    "    <li><b>assertions don't supersede exceptions or validate the data</b> - they are their supplements.</li>\n",
    "</ul>"
   ]
  },
  {
   "cell_type": "code",
   "execution_count": 12,
   "id": "8d109d9a",
   "metadata": {},
   "outputs": [
    {
     "name": "stdout",
     "output_type": "stream",
     "text": [
      "Enter a number: -1\n"
     ]
    },
    {
     "ename": "AssertionError",
     "evalue": "",
     "output_type": "error",
     "traceback": [
      "\u001b[1;31m---------------------------------------------------------------------------\u001b[0m",
      "\u001b[1;31mAssertionError\u001b[0m                            Traceback (most recent call last)",
      "\u001b[1;32m~\\AppData\\Local\\Temp/ipykernel_12036/518628932.py\u001b[0m in \u001b[0;36m<module>\u001b[1;34m\u001b[0m\n\u001b[0;32m      2\u001b[0m \u001b[1;33m\u001b[0m\u001b[0m\n\u001b[0;32m      3\u001b[0m \u001b[0mx\u001b[0m \u001b[1;33m=\u001b[0m \u001b[0mfloat\u001b[0m\u001b[1;33m(\u001b[0m\u001b[0minput\u001b[0m\u001b[1;33m(\u001b[0m\u001b[1;34m\"Enter a number: \"\u001b[0m\u001b[1;33m)\u001b[0m\u001b[1;33m)\u001b[0m\u001b[1;33m\u001b[0m\u001b[1;33m\u001b[0m\u001b[0m\n\u001b[1;32m----> 4\u001b[1;33m \u001b[1;32massert\u001b[0m \u001b[0mx\u001b[0m \u001b[1;33m>=\u001b[0m \u001b[1;36m0.0\u001b[0m\u001b[1;33m\u001b[0m\u001b[1;33m\u001b[0m\u001b[0m\n\u001b[0m\u001b[0;32m      5\u001b[0m \u001b[1;33m\u001b[0m\u001b[0m\n\u001b[0;32m      6\u001b[0m \u001b[0mx\u001b[0m \u001b[1;33m=\u001b[0m \u001b[0mmath\u001b[0m\u001b[1;33m.\u001b[0m\u001b[0msqrt\u001b[0m\u001b[1;33m(\u001b[0m\u001b[0mx\u001b[0m\u001b[1;33m)\u001b[0m\u001b[1;33m\u001b[0m\u001b[1;33m\u001b[0m\u001b[0m\n",
      "\u001b[1;31mAssertionError\u001b[0m: "
     ]
    }
   ],
   "source": [
    "import math\n",
    "\n",
    "x = float(input(\"Enter a number: \"))\n",
    "assert x >= 0.0\n",
    "\n",
    "x = math.sqrt(x)\n",
    "\n",
    "print(x)"
   ]
  },
  {
   "cell_type": "markdown",
   "id": "504bed10",
   "metadata": {},
   "source": [
    "<h1>Section Summary</h1>\n",
    "<p>What is the expected output of the following code?</p>"
   ]
  },
  {
   "cell_type": "code",
   "execution_count": 13,
   "id": "0c73c98e",
   "metadata": {},
   "outputs": [
    {
     "name": "stdout",
     "output_type": "stream",
     "text": [
      "zero\n"
     ]
    }
   ],
   "source": [
    "try:\n",
    "    print(1/0)\n",
    "except ZeroDivisionError:\n",
    "    print(\"zero\")\n",
    "except ArithmeticError:\n",
    "    print(\"arith\")\n",
    "except:\n",
    "    print(\"some\")"
   ]
  },
  {
   "cell_type": "markdown",
   "id": "29063686",
   "metadata": {},
   "source": [
    "<p>What is the expected output of the following code?</p>"
   ]
  },
  {
   "cell_type": "code",
   "execution_count": 15,
   "id": "c9d345ed",
   "metadata": {},
   "outputs": [
    {
     "name": "stdout",
     "output_type": "stream",
     "text": [
      "arith\n"
     ]
    }
   ],
   "source": [
    "try:\n",
    "    print(1/0)\n",
    "except ArithmeticError:\n",
    "    print(\"arith\")\n",
    "except ZeroDivisionError:\n",
    "    print(\"zero\")\n",
    "except:\n",
    "    print(\"some\")"
   ]
  },
  {
   "cell_type": "markdown",
   "id": "3b10d0ed",
   "metadata": {},
   "source": [
    "<p>What is the expected output of the following code?</p>"
   ]
  },
  {
   "cell_type": "code",
   "execution_count": 18,
   "id": "021ec5b7",
   "metadata": {},
   "outputs": [
    {
     "name": "stdout",
     "output_type": "stream",
     "text": [
      "some\n"
     ]
    }
   ],
   "source": [
    "def foo(x):\n",
    "    assert x\n",
    "    return 1/x\n",
    "\n",
    "\n",
    "try:\n",
    "    print(foo(0))\n",
    "except ZeroDivisionError:\n",
    "    print(\"zero\")\n",
    "except:\n",
    "    print(\"some\")"
   ]
  },
  {
   "cell_type": "markdown",
   "id": "99fb396a",
   "metadata": {},
   "source": [
    "<p>0 = False, therefore the assertion failed</p>"
   ]
  },
  {
   "cell_type": "code",
   "execution_count": null,
   "id": "c967db99",
   "metadata": {},
   "outputs": [],
   "source": []
  }
 ],
 "metadata": {
  "kernelspec": {
   "display_name": "Python 3 (ipykernel)",
   "language": "python",
   "name": "python3"
  },
  "language_info": {
   "codemirror_mode": {
    "name": "ipython",
    "version": 3
   },
   "file_extension": ".py",
   "mimetype": "text/x-python",
   "name": "python",
   "nbconvert_exporter": "python",
   "pygments_lexer": "ipython3",
   "version": "3.9.1"
  }
 },
 "nbformat": 4,
 "nbformat_minor": 5
}
