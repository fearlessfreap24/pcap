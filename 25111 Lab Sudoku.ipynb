{
 "cells": [
  {
   "cell_type": "markdown",
   "id": "6f9decea",
   "metadata": {},
   "source": [
    "<p>Your task is to write a program which:</p>\n",
    "<ul>\n",
    "    <li>reads 9 rows of the Sudoku, each containing 9 digits (check carefully if the data entered are valid)\n",
    "    <li>outputs Yes if the Sudoku is valid, and No otherwise.\n",
    "</ul>\n",
    "<p>Copied from my previous code <a href=\"https://github.com/fearlessfreap24/pcap/blob/master/sudoku.py\">Sudoku Code</a></p>"
   ]
  },
  {
   "cell_type": "code",
   "execution_count": 3,
   "id": "3118cbb5",
   "metadata": {},
   "outputs": [],
   "source": [
    "def get_row(num):\n",
    "    row = input(f\"enter your row #{num}, 9 digits only: \")\n",
    "    while len(row) != 9 or not row.isdigit():\n",
    "        row = input(f\"enter your row #{num}, 9 digits only: \")\n",
    "    return row"
   ]
  },
  {
   "cell_type": "code",
   "execution_count": 9,
   "id": "bd1c6d67",
   "metadata": {},
   "outputs": [],
   "source": [
    "def check_numbers(numbers):\n",
    "    one_to_nine = \"123456789\"\n",
    "    for i in one_to_nine:\n",
    "        if i not in numbers or numbers.count(i) != 1:\n",
    "            return False\n",
    "    return True"
   ]
  },
  {
   "cell_type": "code",
   "execution_count": 10,
   "id": "cc372e0e",
   "metadata": {},
   "outputs": [],
   "source": [
    "def check_row(numbers):\n",
    "    for i in numbers:\n",
    "        if not check_numbers(i):\n",
    "            return False\n",
    "    return True"
   ]
  },
  {
   "cell_type": "code",
   "execution_count": 11,
   "id": "bbe07c40",
   "metadata": {},
   "outputs": [],
   "source": [
    "def check_column(numbers):\n",
    "    for i in range(len(numbers)):\n",
    "        columns = numbers[i][0] + numbers[i][1] + numbers[i][2] + numbers[i][3] + numbers[i][4] \\\n",
    "             + numbers[i][5] + numbers[i][6] + numbers[i][7] + numbers[i][8]\n",
    "        if not check_numbers(columns):\n",
    "            return False\n",
    "    return True"
   ]
  },
  {
   "cell_type": "code",
   "execution_count": 12,
   "id": "f6751a45",
   "metadata": {},
   "outputs": [],
   "source": [
    "def check_subsquare(numbers):\n",
    "    for i in range(0, len(numbers), 3):\n",
    "        for j in range(0,len(numbers), 3):\n",
    "            subsquare = numbers[i][j] + numbers[i][j+1] + numbers[i][j+2] + numbers[i+1][j] \\\n",
    "                + numbers[i+1][j+1] + numbers[i+1][j+2] + numbers[i+2][j] + numbers[i+2][j+1] \\\n",
    "                + numbers[i+2][j+2]\n",
    "            if not check_numbers(subsquare):\n",
    "                return False\n",
    "    return True"
   ]
  },
  {
   "cell_type": "code",
   "execution_count": 14,
   "id": "2598cec7",
   "metadata": {},
   "outputs": [],
   "source": [
    "def is_sudoku(numbers):\n",
    "    if check_row(numbers) and check_column(numbers) and check_subsquare(numbers):\n",
    "        return \"Yes\"\n",
    "    return \"No\""
   ]
  },
  {
   "cell_type": "code",
   "execution_count": 16,
   "id": "de78a43d",
   "metadata": {},
   "outputs": [
    {
     "name": "stdout",
     "output_type": "stream",
     "text": [
      "enter your row #1, 9 digits only: 195743862\n",
      "enter your row #2, 9 digits only: 431865927\n",
      "enter your row #3, 9 digits only: 876192543\n",
      "enter your row #4, 9 digits only: 387459216\n",
      "enter your row #5, 9 digits only: 612387495\n",
      "enter your row #6, 9 digits only: 549216738\n",
      "enter your row #7, 9 digits only: 763524189\n",
      "enter your row #8, 9 digits only: 928671354\n",
      "enter your row #9, 9 digits only: 254938671\n",
      "No\n"
     ]
    }
   ],
   "source": [
    "numbers = [get_row(i+1) for i in range(9)]\n",
    "print(is_sudoku(numbers))"
   ]
  }
 ],
 "metadata": {
  "kernelspec": {
   "display_name": "Python 3 (ipykernel)",
   "language": "python",
   "name": "python3"
  },
  "language_info": {
   "codemirror_mode": {
    "name": "ipython",
    "version": 3
   },
   "file_extension": ".py",
   "mimetype": "text/x-python",
   "name": "python",
   "nbconvert_exporter": "python",
   "pygments_lexer": "ipython3",
   "version": "3.9.2"
  }
 },
 "nbformat": 4,
 "nbformat_minor": 5
}
