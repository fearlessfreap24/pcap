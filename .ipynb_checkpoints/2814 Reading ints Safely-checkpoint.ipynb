{
 "cells": [
  {
   "cell_type": "markdown",
   "id": "47ae1bd0",
   "metadata": {},
   "source": [
    "<h2>Scenario</h2>\n",
    "<p>Your task is to write a <b>function able to input integer values and to check if they are within a specified range</b>.</p>\n",
    "<p>The function should:</p>\n",
    "<ul>\n",
    "    <li>accept three arguments: a prompt, a low acceptable limit, and a high acceptable limit;</li>\n",
    "    <li>if the user enters a string that is not an integer value, the function should emit the message <code>Error: wrong input</code>, and ask the user to input the value again;</li>\n",
    "    <li>if the user enters a number which falls outside the specified range, the function should emit the message <code>Error: the value is not within permitted range (min..max)</code> and ask the user to input the value again;</li>\n",
    "    <li>if the input value is valid, return it as a result.\n",
    "</li>\n",
    "</ul>"
   ]
  },
  {
   "cell_type": "code",
   "execution_count": 6,
   "id": "de3b69a5",
   "metadata": {},
   "outputs": [
    {
     "name": "stdout",
     "output_type": "stream",
     "text": [
      "Enter a number from -10 to 10: 9\n",
      "The number is: 9\n"
     ]
    }
   ],
   "source": [
    "def read_int(prompt, min, max):\n",
    "    try:\n",
    "        prompt = int(input(prompt))\n",
    "        assert min <= prompt <= max\n",
    "        return prompt\n",
    "    except ValueError:\n",
    "        print(\"Error: wrong input\")\n",
    "    except AssertionError:\n",
    "        print(f\"Error: the value is not within permitted range ({min}..{max})\")\n",
    "\n",
    "\n",
    "v = read_int(\"Enter a number from -10 to 10: \", -10, 10)\n",
    "\n",
    "print(\"The number is:\", v)"
   ]
  }
 ],
 "metadata": {
  "kernelspec": {
   "display_name": "Python 3 (ipykernel)",
   "language": "python",
   "name": "python3"
  },
  "language_info": {
   "codemirror_mode": {
    "name": "ipython",
    "version": 3
   },
   "file_extension": ".py",
   "mimetype": "text/x-python",
   "name": "python",
   "nbconvert_exporter": "python",
   "pygments_lexer": "ipython3",
   "version": "3.9.2"
  }
 },
 "nbformat": 4,
 "nbformat_minor": 5
}
