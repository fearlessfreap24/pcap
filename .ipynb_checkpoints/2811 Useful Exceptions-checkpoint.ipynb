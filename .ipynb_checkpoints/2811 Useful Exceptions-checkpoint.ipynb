{
 "cells": [
  {
   "cell_type": "markdown",
   "id": "166fb0bf",
   "metadata": {},
   "source": [
    "<h2><i>ArethmeticError</i></h2>\n",
    "<p><b>Location:</b> <i>BaseExcception</i> -> <i>Exception</i> -> <i>ArethmeticError</i></p>\n",
    "<p><b>Description</b>: an abstract exception including all exceptions caused by arithmetic operations like zero division or an argument's invalid domain</p>"
   ]
  },
  {
   "cell_type": "markdown",
   "id": "51e18d4c",
   "metadata": {},
   "source": [
    "<h2><i>AssertionError</i></h2>\n",
    "<p><b>Location</b>: <i>BaseExcception</i> -> <i>Exception</i> -> <i>AssertionError</i></p>\n",
    "<p><b>Description</b>: a concrete exception raised by the assert instruction when its argument evaluates to <code>False</code>, <code>None</code>, <code>0</code>, or an empty string"
   ]
  },
  {
   "cell_type": "code",
   "execution_count": 4,
   "id": "fdd3ec12",
   "metadata": {},
   "outputs": [
    {
     "name": "stdout",
     "output_type": "stream",
     "text": [
      "Enter integral angle in degrees: 90\n"
     ]
    },
    {
     "ename": "AssertionError",
     "evalue": "",
     "output_type": "error",
     "traceback": [
      "\u001b[1;31m---------------------------------------------------------------------------\u001b[0m",
      "\u001b[1;31mAssertionError\u001b[0m                            Traceback (most recent call last)",
      "\u001b[1;32m~\\AppData\\Local\\Temp/ipykernel_4504/2202726803.py\u001b[0m in \u001b[0;36m<module>\u001b[1;34m\u001b[0m\n\u001b[0;32m      3\u001b[0m \u001b[1;33m\u001b[0m\u001b[0m\n\u001b[0;32m      4\u001b[0m \u001b[1;31m# We must be sure that angle != 90 + k * 180\u001b[0m\u001b[1;33m\u001b[0m\u001b[1;33m\u001b[0m\u001b[1;33m\u001b[0m\u001b[0m\n\u001b[1;32m----> 5\u001b[1;33m \u001b[1;32massert\u001b[0m \u001b[0mangle\u001b[0m \u001b[1;33m%\u001b[0m \u001b[1;36m180\u001b[0m \u001b[1;33m!=\u001b[0m \u001b[1;36m90\u001b[0m\u001b[1;33m\u001b[0m\u001b[1;33m\u001b[0m\u001b[0m\n\u001b[0m\u001b[0;32m      6\u001b[0m \u001b[0mprint\u001b[0m\u001b[1;33m(\u001b[0m\u001b[0mtan\u001b[0m\u001b[1;33m(\u001b[0m\u001b[0mradians\u001b[0m\u001b[1;33m(\u001b[0m\u001b[0mangle\u001b[0m\u001b[1;33m)\u001b[0m\u001b[1;33m)\u001b[0m\u001b[1;33m)\u001b[0m\u001b[1;33m\u001b[0m\u001b[1;33m\u001b[0m\u001b[0m\n",
      "\u001b[1;31mAssertionError\u001b[0m: "
     ]
    }
   ],
   "source": [
    "from math import tan, radians\n",
    "angle = int(input('Enter integral angle in degrees: '))\n",
    "\n",
    "# We must be sure that angle != 90 + k * 180\n",
    "assert angle % 180 != 90\n",
    "print(tan(radians(angle)))"
   ]
  },
  {
   "cell_type": "markdown",
   "id": "89db58f6",
   "metadata": {},
   "source": [
    "<h2><i>BaseException</i></h2>\n",
    "<p><b>Location</b>: BaseExcception</p>\n",
    "<p><b>Description</b>: the most general (abstract) of all Python exceptions - all other exceptions are included in this one; it can be said that the following two except branches are equivalent: <code>except:</code> and <code>except BaseException:</code>."
   ]
  },
  {
   "cell_type": "markdown",
   "id": "665607b6",
   "metadata": {},
   "source": [
    "<h2><i>IndexError</i></h2>\n",
    "<p><b>Location</b>:  <i>BaseExcception</i> -> <i>Exception</i> -> <i>LookupError</i> -> <i>IndexError</i></p>\n",
    "<p><b>Description</b>: a concrete exception raised when you try to access a non-existent sequence's element (e.g., a list's element)"
   ]
  },
  {
   "cell_type": "code",
   "execution_count": 5,
   "id": "6d5a5cf3",
   "metadata": {},
   "outputs": [
    {
     "name": "stdout",
     "output_type": "stream",
     "text": [
      "1\n",
      "2\n",
      "3\n",
      "4\n",
      "5\n",
      "Done\n"
     ]
    }
   ],
   "source": [
    "# The code shows an extravagant way\n",
    "# of leaving the loop.\n",
    "\n",
    "the_list = [1, 2, 3, 4, 5]\n",
    "ix = 0\n",
    "do_it = True\n",
    "\n",
    "while do_it:\n",
    "    try:\n",
    "        print(the_list[ix])\n",
    "        ix += 1\n",
    "    except IndexError:\n",
    "        do_it = False\n",
    "\n",
    "print('Done')"
   ]
  },
  {
   "cell_type": "markdown",
   "id": "3e331fcb",
   "metadata": {},
   "source": [
    "<h2><i>KeyboardInterrupt</i></h2>\n",
    "<p><b>Location</b>: <i>BaseException</i> -> <i>KeyboardInterrupt</i></p>\n",
    "<p><b>Description</b>: a concrete exception raised when the user uses a keyboard shortcut designed to terminate a program's execution (Ctrl-C in most OSs); if handling this exception doesn't lead to program termination, the program continues its execution.</p>\n",
    "<p>Note: this exception is not derived from the Exception class. Run the program in IDLE.</p>"
   ]
  },
  {
   "cell_type": "code",
   "execution_count": 1,
   "id": "27fbb450",
   "metadata": {},
   "outputs": [
    {
     "name": "stdout",
     "output_type": "stream",
     "text": [
      "0,1,2,3,4\n",
      "5,6,7,Don't do that!\n",
      "8,9\n",
      "Don't do that!\n",
      "10,Don't do that!\n",
      "11,12,13,14\n",
      "15,16,17,18,19\n",
      "20,21,22,23,24\n",
      "25,26,27,28,29\n"
     ]
    }
   ],
   "source": [
    "# This code cannot be terminated\n",
    "# by pressing Ctrl-C.\n",
    "\n",
    "from time import sleep\n",
    "\n",
    "seconds = 0\n",
    "\n",
    "while seconds < 30:\n",
    "    try:\n",
    "        if seconds % 5 == 4: print(seconds)\n",
    "        else: print(seconds, end=\",\")\n",
    "        seconds += 1\n",
    "        sleep(1)\n",
    "    except KeyboardInterrupt:\n",
    "        print(\"Don't do that!\")"
   ]
  },
  {
   "cell_type": "markdown",
   "id": "eca14cd1",
   "metadata": {},
   "source": [
    "<h2><i>LookupError</i></h2>\n",
    "<p><b>Location</b>: <i>BaseException</i> -> <i>Exception</i> -> <i>LookupError</i></p>\n",
    "<p><b>Description</b>: an abstract exception including all exceptions caused by errors resulting from invalid references to different collections (lists, dictionaries, tuples, etc.)</p>"
   ]
  },
  {
   "cell_type": "markdown",
   "id": "5d89481d",
   "metadata": {},
   "source": [
    "<h2><i>MemoryError</i></h2>\n",
    "<p><b>Location</b>: <i>BaseException</i> -> <i>Exception</i> -> <i>MemoryError</i></p>\n",
    "<p><b>Description</b>: a concrete exception raised when an operation cannot be completed due to a lack of free memory.</p>\n",
    "<p><code># This code causes the MemoryError exception.\n",
    "# Warning: executing this code may affect your OS.\n",
    "# Don't run it in production environments!\n",
    "\n",
    "string = 'x'\n",
    "try:\n",
    "    while True:\n",
    "        string = string + string\n",
    "        print(len(string))\n",
    "except MemoryError:\n",
    "    print('This is not funny!')</code>"
   ]
  },
  {
   "cell_type": "markdown",
   "id": "ec4a138a",
   "metadata": {},
   "source": [
    "<h2 style=\"font-style: italic\">OverflowError</h2>\n",
    "<p><b>Location</b>: <i>BaseException</i> -> <i>Exception</i> -> <i>ArithmeticError</i> -> <i>OverflowError</i></p>\n",
    "<p><b>Description</b>: a concrete exception raised when an operation produces a number too big to be successfully stored</p>\n",
    "<p><code># The code prints subsequent\n",
    "# values of exp(k), k = 1, 2, 4, 8, 16, ...\n",
    "\n",
    "from math import exp\n",
    "\n",
    "ex = 1\n",
    "\n",
    "try:\n",
    "    while True:\n",
    "        print(exp(ex))\n",
    "        ex *= 2\n",
    "except OverflowError:\n",
    "    print('The number is too big.')\n",
    "</code></p>"
   ]
  },
  {
   "cell_type": "markdown",
   "id": "eb648f4e",
   "metadata": {},
   "source": [
    "<h2 style=\"font-style:italic\">ImportError</h2>\n",
    "<p><b>Location</b>: <i>BaseException</i> -> <i>Exception</i> -> <i>StandardError</i> -> <i>ImportError</i></p>\n",
    "<p><b>Description</b>: a concrete exception raised when an import operation fails</p>"
   ]
  },
  {
   "cell_type": "code",
   "execution_count": 3,
   "id": "23000f39",
   "metadata": {},
   "outputs": [
    {
     "name": "stdout",
     "output_type": "stream",
     "text": [
      "One of your imports has failed.\n"
     ]
    }
   ],
   "source": [
    "# One of these imports will fail - which one?\n",
    "\n",
    "try:\n",
    "    import math\n",
    "    import time\n",
    "    import abracadabra\n",
    "\n",
    "except:\n",
    "    print('One of your imports has failed.')"
   ]
  },
  {
   "cell_type": "markdown",
   "id": "3e6a45fb",
   "metadata": {},
   "source": [
    "<h2 style=\"font-style:italic\">KeyError</h2>\n",
    "<p><b>Location</b>: <i>BaseException</i> -> <i>Exception</i> -> <i>LookupError</i> -> <i>KeyError</i></p>\n",
    "<p><b>Description</b>: a concrete exception raised when you try to access a collection's non-existent element (e.g., a dictionary's element)</p>"
   ]
  },
  {
   "cell_type": "code",
   "execution_count": 4,
   "id": "1bf7e58d",
   "metadata": {},
   "outputs": [
    {
     "name": "stdout",
     "output_type": "stream",
     "text": [
      "b\n",
      "c\n",
      "d\n",
      "No such key: d\n"
     ]
    }
   ],
   "source": [
    "# How to abuse the dictionary\n",
    "# and how to deal with it?\n",
    "\n",
    "dictionary = { 'a': 'b', 'b': 'c', 'c': 'd' }\n",
    "ch = 'a'\n",
    "\n",
    "try:\n",
    "    while True:\n",
    "        ch = dictionary[ch]\n",
    "        print(ch)\n",
    "except KeyError:\n",
    "    print('No such key:', ch)"
   ]
  },
  {
   "cell_type": "markdown",
   "id": "eab0f0e0",
   "metadata": {},
   "source": [
    "<h2>Section Summary</h2>\n",
    "<p>Which of the exceptions will you use to protect your code from being interrupted through the use of the keyboard?</p>\n",
    "<p>What is the name of the most general of all Python exceptions?</p>\n",
    "<p>Which of the exceptions will be raised through the following unsuccessful evaluation?</p>"
   ]
  },
  {
   "cell_type": "code",
   "execution_count": 1,
   "id": "ff5b2e8c",
   "metadata": {},
   "outputs": [
    {
     "ename": "OverflowError",
     "evalue": "(34, 'Result too large')",
     "output_type": "error",
     "traceback": [
      "\u001b[1;31m---------------------------------------------------------------------------\u001b[0m",
      "\u001b[1;31mOverflowError\u001b[0m                             Traceback (most recent call last)",
      "\u001b[1;32m~\\AppData\\Local\\Temp/ipykernel_8856/3289533628.py\u001b[0m in \u001b[0;36m<module>\u001b[1;34m\u001b[0m\n\u001b[1;32m----> 1\u001b[1;33m \u001b[0mhuge_value\u001b[0m \u001b[1;33m=\u001b[0m \u001b[1;36m1E250\u001b[0m \u001b[1;33m**\u001b[0m \u001b[1;36m2\u001b[0m\u001b[1;33m\u001b[0m\u001b[1;33m\u001b[0m\u001b[0m\n\u001b[0m",
      "\u001b[1;31mOverflowError\u001b[0m: (34, 'Result too large')"
     ]
    }
   ],
   "source": [
    "huge_value = 1E250 ** 2"
   ]
  },
  {
   "cell_type": "markdown",
   "id": "aaf274e0",
   "metadata": {},
   "source": [
    "<p>KeyboardInterrupt</p>\n",
    "<p>BaseException</p>"
   ]
  }
 ],
 "metadata": {
  "kernelspec": {
   "display_name": "Python 3 (ipykernel)",
   "language": "python",
   "name": "python3"
  },
  "language_info": {
   "codemirror_mode": {
    "name": "ipython",
    "version": 3
   },
   "file_extension": ".py",
   "mimetype": "text/x-python",
   "name": "python",
   "nbconvert_exporter": "python",
   "pygments_lexer": "ipython3",
   "version": "3.9.2"
  }
 },
 "nbformat": 4,
 "nbformat_minor": 5
}
