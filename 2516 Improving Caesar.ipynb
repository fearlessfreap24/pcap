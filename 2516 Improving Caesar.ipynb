{
 "cells": [
  {
   "cell_type": "markdown",
   "id": "ad6f54f8",
   "metadata": {},
   "source": [
    "<p>The original Caesar cipher shifts each character by one: a becomes b, z becomes a, and so on. Let's make it a bit harder, and allow the shifted value to come from the range 1..25 inclusive.</p>\n",
    "<p>Moreover, let the code preserve the letters' case (lower-case letters will remain lower-case) and all non-alphabetical characters should remain untouched.</p>\n",
    "<p>Your task is to write a program which:<br>\n",
    "    <ul>\n",
    "        <li>asks the user for one line of text to encrypt\n",
    "        <li>asks the user for a shift value (an integer number from the range 1..25 - note: you should force the user to enter a valid shift value (don't give up and don't let bad data fool you!)\n",
    "        <li>prints out the encoded text.\n",
    "    </ul></p>"
   ]
  },
  {
   "cell_type": "code",
   "execution_count": 22,
   "id": "e17140da",
   "metadata": {},
   "outputs": [],
   "source": [
    "def new_caesar(string, shift):\n",
    "    result = \"\"\n",
    "    for i in string:\n",
    "        if i.islower():\n",
    "            new_i = ord(i) + shift\n",
    "            if not 97 <= new_i <= 122:\n",
    "                new_i = 97 + (new_i - 123)\n",
    "            result += chr(new_i)\n",
    "        elif i.isupper():\n",
    "            new_i = ord(i) + shift\n",
    "            if not 65 <= new_i <= 90:\n",
    "                new_i = 65 + (new_i - 91)\n",
    "            result += chr(new_i)\n",
    "        else:\n",
    "            result += i\n",
    "    return result"
   ]
  },
  {
   "cell_type": "code",
   "execution_count": 24,
   "id": "5388cb24",
   "metadata": {},
   "outputs": [
    {
     "name": "stdout",
     "output_type": "stream",
     "text": [
      "Please enter the text to encrypt - ZZ Top - Eliminator\n",
      "Please enter a whole number used for shifting - 4\n",
      "Here is the encrypted text:\n",
      "DD Xst - Ipmqmrexsv\n"
     ]
    }
   ],
   "source": [
    "text = input(\"Please enter the text to encrypt - \")\n",
    "x = 0\n",
    "while not 1 <= x <= 25:\n",
    "    try:\n",
    "        x = int(input(\"Please enter a whole number used for shifting - \"))\n",
    "    except Exception:\n",
    "        print(\"Please enter whole numbers only\")\n",
    "        x = 0\n",
    "        \n",
    "print(f\"Here is the encrypted text:\\n{new_caesar(text, x)}\")"
   ]
  },
  {
   "cell_type": "code",
   "execution_count": null,
   "id": "4b1a9133",
   "metadata": {},
   "outputs": [],
   "source": []
  }
 ],
 "metadata": {
  "kernelspec": {
   "display_name": "Python 3 (ipykernel)",
   "language": "python",
   "name": "python3"
  },
  "language_info": {
   "codemirror_mode": {
    "name": "ipython",
    "version": 3
   },
   "file_extension": ".py",
   "mimetype": "text/x-python",
   "name": "python",
   "nbconvert_exporter": "python",
   "pygments_lexer": "ipython3",
   "version": "3.9.1"
  }
 },
 "nbformat": 4,
 "nbformat_minor": 5
}
