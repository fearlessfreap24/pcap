{
 "cells": [
  {
   "cell_type": "markdown",
   "id": "a739cc45",
   "metadata": {},
   "source": [
    "<p>Your task is to write a program which answers the following question: are the characters comprising the first string hidden inside the second string?</p>\n",
    "<p>For example:</p>\n",
    "<ul>\n",
    "    <li>if the second string is given as \"vcxzxduybfdsobywuefgas\", the answer is yes;\n",
    "    <li>if the second string is \"vcxzxdcybfdstbywuefsas\", the answer is no (as there are neither the letters \"d\", \"o\", or \"g\", in this order)\n",
    "</ul>\n",
    "<p>Hints:</p>\n",
    "<ul>\n",
    "    <li>you should use the two-argument variants of the pos() functions inside your code;\n",
    "    <li>don't worry about case sensitivity.\n",
    "</ul>"
   ]
  },
  {
   "cell_type": "code",
   "execution_count": 6,
   "id": "11a571e4",
   "metadata": {},
   "outputs": [],
   "source": [
    "def chars_in_text(text1, text2):\n",
    "    for i in text1.lower():\n",
    "        if i not in text2.lower():\n",
    "            return \"no\"\n",
    "    return \"yes\""
   ]
  },
  {
   "cell_type": "code",
   "execution_count": 8,
   "id": "68e171cb",
   "metadata": {},
   "outputs": [
    {
     "name": "stdout",
     "output_type": "stream",
     "text": [
      "no\n"
     ]
    }
   ],
   "source": [
    "word1 = \"donut\"\n",
    "word2 = \"Nabucodonosor\"\n",
    "print(chars_in_text(word1, word2))"
   ]
  }
 ],
 "metadata": {
  "kernelspec": {
   "display_name": "Python 3 (ipykernel)",
   "language": "python",
   "name": "python3"
  },
  "language_info": {
   "codemirror_mode": {
    "name": "ipython",
    "version": 3
   },
   "file_extension": ".py",
   "mimetype": "text/x-python",
   "name": "python",
   "nbconvert_exporter": "python",
   "pygments_lexer": "ipython3",
   "version": "3.9.2"
  }
 },
 "nbformat": 4,
 "nbformat_minor": 5
}
