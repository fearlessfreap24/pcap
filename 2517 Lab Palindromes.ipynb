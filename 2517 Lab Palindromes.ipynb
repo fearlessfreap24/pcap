{
 "cells": [
  {
   "cell_type": "markdown",
   "id": "bc50b3c0",
   "metadata": {},
   "source": [
    "<p>Your task is to write a program which:</p>\n",
    "<ul>\n",
    "    <li>asks the user for some text;\n",
    "    <li>checks whether the entered text is a palindrome, and prints result.\n",
    "</ul>\n",
    "<p>Note:</p>\n",
    "<ul>\n",
    "    <li>assume that an empty string isn't a palindrome;\n",
    "    <li>treat upper- and lower-case letters as equal;\n",
    "    <li>spaces are not taken into account during the check - treat them as non-existent;\n",
    "    <li>there are more than a few correct solutions - try to find more than one.\n",
    "</ul>"
   ]
  },
  {
   "cell_type": "code",
   "execution_count": 3,
   "id": "d80de2e6",
   "metadata": {},
   "outputs": [],
   "source": [
    "def is_palindrome(text):\n",
    "    return text.replace(\" \", \"\").lower() == text.replace(\" \", \"\").lower()[::-1]"
   ]
  },
  {
   "cell_type": "code",
   "execution_count": 7,
   "id": "af13ef0a",
   "metadata": {},
   "outputs": [
    {
     "name": "stdout",
     "output_type": "stream",
     "text": [
      "Please enter the text to check for palindrome - Eleven animals I slam in a net\n",
      "It's not a palindrome\n"
     ]
    }
   ],
   "source": [
    "text = input(\"Please enter the text to check for palindrome - \")\n",
    "if is_palindrome(text):\n",
    "    print(\"It's a palindrome\")\n",
    "else:\n",
    "    print(\"It's not a palindrome\")"
   ]
  },
  {
   "cell_type": "code",
   "execution_count": null,
   "id": "7784e36f",
   "metadata": {},
   "outputs": [],
   "source": []
  }
 ],
 "metadata": {
  "kernelspec": {
   "display_name": "Python 3 (ipykernel)",
   "language": "python",
   "name": "python3"
  },
  "language_info": {
   "codemirror_mode": {
    "name": "ipython",
    "version": 3
   },
   "file_extension": ".py",
   "mimetype": "text/x-python",
   "name": "python",
   "nbconvert_exporter": "python",
   "pygments_lexer": "ipython3",
   "version": "3.9.1"
  }
 },
 "nbformat": 4,
 "nbformat_minor": 5
}
