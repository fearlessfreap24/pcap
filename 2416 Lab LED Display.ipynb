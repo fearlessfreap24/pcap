{
 "cells": [
  {
   "cell_type": "markdown",
   "id": "0bcad2f5",
   "metadata": {},
   "source": [
    "<p>Your task is to write a program which is able to simulate the work of a seven-display device, although you're going to use single LEDs instead of segments.</p>\n",
    "<p>Each digit is constructed from 13 LEDs</p>"
   ]
  },
  {
   "cell_type": "code",
   "execution_count": 29,
   "id": "34ff790d",
   "metadata": {},
   "outputs": [],
   "source": [
    "def led_display(itg):\n",
    "    row1 = [\"###\", \"  #\", \"###\", \"###\", \"# #\", \"###\", \"###\", \"###\", \"###\", \"###\"]\n",
    "    row2 = [\"# #\", \"  #\", \"  #\", \"  #\", \"# #\", \"#  \", \"#  \", \"  #\", \"# #\", \"# #\"]\n",
    "    row3 = [\"# #\", \"  #\", \"###\", \"###\", \"###\", \"###\", \"###\", \"  #\", \"###\", \"###\"]\n",
    "    row4 = [\"# #\", \"  #\", \"#  \", \"  #\", \"  #\", \"  #\", \"# #\", \"  #\", \"# #\", \"  #\"]\n",
    "    row5 = [\"###\", \"  #\", \"###\", \"###\", \"  #\", \"###\", \"###\", \"  #\", \"###\", \"  #\"]\n",
    "    leds = [row1, row2, row3, row4, row5]\n",
    "    itg_str = str(itg)\n",
    "    \n",
    "    for row in range(len(leds)):\n",
    "        for num in itg_str:\n",
    "            print(leds[row][int(num)], end=\" \")\n",
    "        print()"
   ]
  },
  {
   "cell_type": "code",
   "execution_count": 30,
   "id": "c4a91ca2",
   "metadata": {},
   "outputs": [
    {
     "name": "stdout",
     "output_type": "stream",
     "text": [
      "  # ### ### \n",
      "  #   #   # \n",
      "  # ### ### \n",
      "  # #     # \n",
      "  # ### ### \n"
     ]
    }
   ],
   "source": [
    "led_display(123)"
   ]
  },
  {
   "cell_type": "code",
   "execution_count": 31,
   "id": "3dcf6bfa",
   "metadata": {},
   "outputs": [
    {
     "name": "stdout",
     "output_type": "stream",
     "text": [
      "### ### ###   # ### ### ### ### ### # # \n",
      "# # # # # #   #   #   # #     # #   # # \n",
      "### # # ###   #   # ### ### ### ### ### \n",
      "  # # # # #   #   # #   # #   #   #   # \n",
      "  # ### ###   #   # ### ### ### ###   # \n"
     ]
    }
   ],
   "source": [
    "led_display(9081726354)"
   ]
  },
  {
   "cell_type": "code",
   "execution_count": null,
   "id": "f4a986ce",
   "metadata": {},
   "outputs": [],
   "source": []
  }
 ],
 "metadata": {
  "kernelspec": {
   "display_name": "Python 3 (ipykernel)",
   "language": "python",
   "name": "python3"
  },
  "language_info": {
   "codemirror_mode": {
    "name": "ipython",
    "version": 3
   },
   "file_extension": ".py",
   "mimetype": "text/x-python",
   "name": "python",
   "nbconvert_exporter": "python",
   "pygments_lexer": "ipython3",
   "version": "3.9.1"
  }
 },
 "nbformat": 4,
 "nbformat_minor": 5
}
