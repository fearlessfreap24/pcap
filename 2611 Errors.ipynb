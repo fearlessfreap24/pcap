{
 "cells": [
  {
   "cell_type": "markdown",
   "id": "71ff5077",
   "metadata": {},
   "source": [
    "<p>Each time your code tries to do something wrong/foolish/irresponsible/crazy/unenforceable, Python does two things:</p>\n",
    "<ul>\n",
    "    <li>it stops your program;</li>\n",
    "    <li>it creates a special kind of data, called an exception.</li>\n",
    "</ul>\n",
    "<p>What happens next?</p>\n",
    "<ul>\n",
    "    <li>the raised exception expects somebody or something to notice it and take care of it;</li>\n",
    "    <li>if nothing happens to take care of the raised exception, the program will be forcibly terminated, and you will see an error message sent to the console by Python;</li>\n",
    "    <li>otherwise, if the exception is taken care of and handled properly, the suspended program can be resumed and its execution can continue.</li>\n",
    "</ul>"
   ]
  },
  {
   "cell_type": "code",
   "execution_count": 1,
   "id": "90d85223",
   "metadata": {},
   "outputs": [
    {
     "ename": "ZeroDivisionError",
     "evalue": "division by zero",
     "output_type": "error",
     "traceback": [
      "\u001b[1;31m---------------------------------------------------------------------------\u001b[0m",
      "\u001b[1;31mZeroDivisionError\u001b[0m                         Traceback (most recent call last)",
      "\u001b[1;32m~\\AppData\\Local\\Temp/ipykernel_18176/8635170.py\u001b[0m in \u001b[0;36m<module>\u001b[1;34m\u001b[0m\n\u001b[0;32m      1\u001b[0m \u001b[0mvalue\u001b[0m \u001b[1;33m=\u001b[0m \u001b[1;36m1\u001b[0m\u001b[1;33m\u001b[0m\u001b[1;33m\u001b[0m\u001b[0m\n\u001b[1;32m----> 2\u001b[1;33m \u001b[0mvalue\u001b[0m \u001b[1;33m/=\u001b[0m\u001b[1;36m0\u001b[0m\u001b[1;33m\u001b[0m\u001b[1;33m\u001b[0m\u001b[0m\n\u001b[0m",
      "\u001b[1;31mZeroDivisionError\u001b[0m: division by zero"
     ]
    }
   ],
   "source": [
    "value = 1\n",
    "value /=0"
   ]
  },
  {
   "cell_type": "code",
   "execution_count": 2,
   "id": "1dc673ee",
   "metadata": {},
   "outputs": [
    {
     "ename": "IndexError",
     "evalue": "list index out of range",
     "output_type": "error",
     "traceback": [
      "\u001b[1;31m---------------------------------------------------------------------------\u001b[0m",
      "\u001b[1;31mIndexError\u001b[0m                                Traceback (most recent call last)",
      "\u001b[1;32m~\\AppData\\Local\\Temp/ipykernel_18176/1022928339.py\u001b[0m in \u001b[0;36m<module>\u001b[1;34m\u001b[0m\n\u001b[0;32m      1\u001b[0m \u001b[0mmy_list\u001b[0m \u001b[1;33m=\u001b[0m \u001b[1;33m[\u001b[0m\u001b[1;33m]\u001b[0m\u001b[1;33m\u001b[0m\u001b[1;33m\u001b[0m\u001b[0m\n\u001b[1;32m----> 2\u001b[1;33m \u001b[0mx\u001b[0m \u001b[1;33m=\u001b[0m \u001b[0mmy_list\u001b[0m\u001b[1;33m[\u001b[0m\u001b[1;36m0\u001b[0m\u001b[1;33m]\u001b[0m\u001b[1;33m\u001b[0m\u001b[1;33m\u001b[0m\u001b[0m\n\u001b[0m",
      "\u001b[1;31mIndexError\u001b[0m: list index out of range"
     ]
    }
   ],
   "source": [
    "my_list = []\n",
    "x = my_list[0]"
   ]
  },
  {
   "cell_type": "markdown",
   "id": "96a43cea",
   "metadata": {},
   "source": [
    "<ul>\n",
    "    <li>the <code>try</code> keyword <b>begins a block of the code</b> which may or may not be performing correctly;</li>\n",
    "    <li>next, Python tries to perform the risky action; if it fails, an exception is raised and Python starts to look for a solution;</li>\n",
    "    <li>the <code>except</code> keyword starts a piece of code which will be <b>executed if anything inside the </b><code>try</code><b> block goes wrong</b> - if an exception is raised inside a previous <code>try</code> block, <b>it will fail here</b>, so the code located after the except keyword should provide an <b>adequate reaction</b> to the raised exception;</li>\n",
    "    <li>returning to the previous nesting level ends the <b>try-except section</b>.</li>\n",
    "</ul>"
   ]
  },
  {
   "cell_type": "markdown",
   "id": "5b6cdd57",
   "metadata": {},
   "source": [
    "<ul>\n",
    "    <li>if the <code>try</code> branch raises the <code>exc1</code> exception, it will be handled by the <code>except exc1:</code> block;</li>\n",
    "    <li>similarly, if the <code>try</code> branch raises the <code>exc2</code> exception, it will be handled by the <code>except exc2:</code> block;</li>\n",
    "    <li>if the <code>try</code> branch raises any other exception, it will be handled by the unnamed <code>except</code> block."
   ]
  },
  {
   "cell_type": "code",
   "execution_count": 4,
   "id": "7e8da936",
   "metadata": {},
   "outputs": [
    {
     "name": "stdout",
     "output_type": "stream",
     "text": [
      "Enter a number: 0\n",
      "You cannot divide by zero, sorry.\n",
      "THE END.\n"
     ]
    }
   ],
   "source": [
    "try:\n",
    "    x = int(input(\"Enter a number: \"))\n",
    "    y = 1 / x\n",
    "    print(y)\n",
    "except ZeroDivisionError:\n",
    "    print(\"You cannot divide by zero, sorry.\")\n",
    "except ValueError:\n",
    "    print(\"You must enter an integer value.\")\n",
    "except:\n",
    "    print(\"Oh dear, something went wrong...\")\n",
    "\n",
    "print(\"THE END.\")"
   ]
  },
  {
   "cell_type": "markdown",
   "id": "9b954942",
   "metadata": {},
   "source": [
    "<p>Don't forget that:</p>\n",
    "<ul>\n",
    "    <li>the <code>except</code> branches are searched in the same order in which they appear in the code;</li>\n",
    "    <li>you must not use more than one except branch with a certain exception name;</li>\n",
    "    <li>the number of different <code>except</code> branches is arbitrary - the only condition is that if you use <code>try</code>, you must put at least one <code>except</code> (named or not) after it;</li>\n",
    "    <li>the <code>except</code> keyword must not be used without a preceding <code>try</code>;</li>\n",
    "    <li>if any of the <code>except</code> branches is executed, no other branches will be visited;</li>\n",
    "    <li>if none of the specified <code>except</code> branches matches the raised exception, the exception remains unhandled (we'll discuss it soon)</li>\n",
    "    <li><u>if an unnamed except branch exists (one without an exception name), it has to be specified as the last.</u></li>\n",
    "</ul>"
   ]
  },
  {
   "cell_type": "markdown",
   "id": "bade1964",
   "metadata": {},
   "source": [
    "<h1>Section Summary</h1>\n",
    "<p>What is the expected output of the following code?</p>"
   ]
  },
  {
   "cell_type": "code",
   "execution_count": 6,
   "id": "9520dfc1",
   "metadata": {},
   "outputs": [
    {
     "name": "stdout",
     "output_type": "stream",
     "text": [
      "Let's try to do this\n",
      "We failed\n",
      "We're done\n"
     ]
    }
   ],
   "source": [
    "try:\n",
    "    print(\"Let's try to do this\")\n",
    "    print(\"#\"[2])\n",
    "    print(\"We succeeded!\")\n",
    "except:\n",
    "    print(\"We failed\")\n",
    "print(\"We're done\")"
   ]
  },
  {
   "cell_type": "markdown",
   "id": "03573d4a",
   "metadata": {},
   "source": [
    "<p>What is the expected output of the following code?</p>"
   ]
  },
  {
   "cell_type": "code",
   "execution_count": 7,
   "id": "1e9ecf90",
   "metadata": {},
   "outputs": [
    {
     "name": "stdout",
     "output_type": "stream",
     "text": [
      "zero\n"
     ]
    }
   ],
   "source": [
    "try:\n",
    "    print(\"alpha\"[1/0])\n",
    "except ZeroDivisionError:\n",
    "    print(\"zero\")\n",
    "except IndexingError:\n",
    "    print(\"index\")\n",
    "except:\n",
    "    print(\"some\")"
   ]
  },
  {
   "cell_type": "code",
   "execution_count": null,
   "id": "b714ed63",
   "metadata": {},
   "outputs": [],
   "source": []
  }
 ],
 "metadata": {
  "kernelspec": {
   "display_name": "Python 3 (ipykernel)",
   "language": "python",
   "name": "python3"
  },
  "language_info": {
   "codemirror_mode": {
    "name": "ipython",
    "version": 3
   },
   "file_extension": ".py",
   "mimetype": "text/x-python",
   "name": "python",
   "nbconvert_exporter": "python",
   "pygments_lexer": "ipython3",
   "version": "3.9.1"
  }
 },
 "nbformat": 4,
 "nbformat_minor": 5
}
