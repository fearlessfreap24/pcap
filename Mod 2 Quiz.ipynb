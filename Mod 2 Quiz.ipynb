{
 "cells": [
  {
   "cell_type": "markdown",
   "id": "c1a4d8ae",
   "metadata": {},
   "source": [
    "<p>The part of the code where you think an exception may occur should be placed inside:</p>\n",
    "<ul>\n",
    "    <li>the <code>except:</code> branch</li>\n",
    "    <li style=\"color:green\">the <code>try:</code> branch</li>\n",
    "    <li>the <code>exception:</code> branch</li>\n",
    "</ul>"
   ]
  },
  {
   "cell_type": "markdown",
   "id": "48dfe6f2",
   "metadata": {},
   "source": [
    "<p>The part of the code where handling of an exception take place shouldbe placed inside:</p>\n",
    "<ul>\n",
    "    <li style=\"color:green\">the <code>except:</code> branch</li>\n",
    "    <li> the <code>try:</code> branch</li>\n",
    "    <li>the <code>exception:</code> branch</li>\n",
    "</ul>"
   ]
  },
  {
   "cell_type": "markdown",
   "id": "dc281b20",
   "metadata": {},
   "source": [
    "<p>Choose the <u>true</u> statements. (Select <u>two</u> answers)</p>\n",
    "<ul>\n",
    "    <li>Different <code>exception:</code> branches <b>may</b> have unique exception names</li>\n",
    "    <li style=\"color:green\">Different <code>exception:</code> branches <b>must</b> have unique exception names</li>\n",
    "    <li style=\"color:green\">you <b>can</b> use multiple <code>except:</code> branches to handle multiple exceptions coming from the same <code>try:</code> branch</li>\n",
    "    <li>you <b>cannot</b> use multiple <code>except:</code> branches to handle multiple exceptions coming from the same <code>try:</code> branch</li>\n",
    "</ul>"
   ]
  },
  {
   "cell_type": "markdown",
   "id": "d4de7aef",
   "metadata": {},
   "source": [
    "<p>When an exception occurs, we say that it has been:</p>\n",
    "<ul>\n",
    "    <li style=\"color:green\">raised</li>\n",
    "    <li>dropped</li>\n",
    "    <li>thrown</li>\n",
    "</ul>"
   ]
  },
  {
   "cell_type": "markdown",
   "id": "c08a2a19",
   "metadata": {},
   "source": [
    "<p>Which of the approachable <code>except:</code> branches is taken into consideration when an exception occurs?</p>\n",
    "<ul>\n",
    "    <li>any of the matching branches</li>\n",
    "    <li>the last matching branch</li>\n",
    "    <li style=\"color:green\">the first matching branch</li>\n",
    "</ul>"
   ]
  },
  {
   "cell_type": "markdown",
   "id": "d8352b4f",
   "metadata": {},
   "source": [
    "<p>An assertion can be used to:</p>\n",
    "<ul>\n",
    "    <li>make the programmer more assertive</li>\n",
    "    <li style=\"color:green\">stop the program when some data have improper values</li>\n",
    "    <li>import a module</li>\n",
    "</ul>"
   ]
  },
  {
   "cell_type": "markdown",
   "id": "e60c3549",
   "metadata": {},
   "source": [
    "<p>A code point is:</p>\n",
    "<ul>\n",
    "    <li>a code containing a point</li>\n",
    "    <li style=\"color:green\">a number which makes up a character</li>\n",
    "    <li>a point used to write code</li>\n",
    "</ul>"
   ]
  },
  {
   "cell_type": "markdown",
   "id": "5b1bd38c",
   "metadata": {},
   "source": [
    "<p><code>isalnum()</code> checks if a string contains only letters and digits, and this is:</p>\n",
    "<ul>\n",
    "    <li>a function</li>\n",
    "    <li style=\"color:green\">a method</li>\n",
    "    <li>a module</li>\n",
    "</ul>"
   ]
  },
  {
   "cell_type": "markdown",
   "id": "761460b6",
   "metadata": {},
   "source": [
    "<p>The expression:</p>\n",
    "<p><code>'mike > 'Mike'</code></p>\n",
    "<p>is</p>\n",
    "<ul>\n",
    "    <li style=\"color:green\">True</li>\n",
    "    <li>False</li>\n",
    "    <li>erroneous</li>\n",
    "</ul>"
   ]
  },
  {
   "cell_type": "markdown",
   "id": "a94905af",
   "metadata": {},
   "source": [
    "<p>The operator <code>+=</code>when applied to strings, performs:</p>\n",
    "<ul>\n",
    "    <li>multiplication</li>\n",
    "    <li>subtracition</li>\n",
    "    <li style=\"color:green\">concatenation</li>\n",
    "</ul>"
   ]
  }
 ],
 "metadata": {
  "kernelspec": {
   "display_name": "Python 3 (ipykernel)",
   "language": "python",
   "name": "python3"
  },
  "language_info": {
   "codemirror_mode": {
    "name": "ipython",
    "version": 3
   },
   "file_extension": ".py",
   "mimetype": "text/x-python",
   "name": "python",
   "nbconvert_exporter": "python",
   "pygments_lexer": "ipython3",
   "version": "3.9.2"
  }
 },
 "nbformat": 4,
 "nbformat_minor": 5
}
